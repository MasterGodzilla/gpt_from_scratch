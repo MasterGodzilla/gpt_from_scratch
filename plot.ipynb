{
 "cells": [
  {
   "cell_type": "code",
   "execution_count": null,
   "metadata": {},
   "outputs": [],
   "source": [
    "# open losses in logs folder\n",
    "import glob\n",
    "losses = {}\n",
    "for file in glob.glob('logs/losses_*.txt'):\n",
    "    with open(file, 'r') as f:\n",
    "        losses[file] = []\n",
    "        for line in f:\n",
    "            losses[file].append(float(line.split(':')[-1].strip()))\n",
    "\n",
    "# plot losses\n",
    "import matplotlib.pyplot as plt\n",
    "plt.figure(figsize=(10, 8))\n",
    "for file, loss in losses.items():\n",
    "    plt.plot(loss, label=file)\n",
    "plt.legend()"
   ]
  }
 ],
 "metadata": {
  "kernelspec": {
   "display_name": "vllm",
   "language": "python",
   "name": "python3"
  },
  "language_info": {
   "name": "python",
   "version": "3.12.4"
  }
 },
 "nbformat": 4,
 "nbformat_minor": 2
}
